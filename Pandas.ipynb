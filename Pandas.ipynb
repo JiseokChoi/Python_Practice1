{
 "cells": [
  {
   "cell_type": "markdown",
   "id": "827d5d3f",
   "metadata": {},
   "source": [
    "Pandas(판다스)\n",
    "===\n",
    "---"
   ]
  },
  {
   "cell_type": "markdown",
   "id": "af431668",
   "metadata": {},
   "source": [
    "## 1. \"Pandas\" 에 대하여\n",
    "- 파이썬에서 사용하는 **데이터 분석/조작** 라이브러리\n",
    "- Pandas의 주요 데이터 구조 : **Series(1차원), DataFrame(2차원)**\n",
    "- Pandas는 다음 종류의 데이터에 적합한 분석 패키지이다.\n",
    "    - SQL 테이블 또는 Excel 스프레드 시트에서와 같이 이질적으로 유형이 지정된 열이있는 데이블 형식 데이터\n",
    "    - 정렬되고 정렬되지 않은 시계열 데이터\n",
    "    - 행 및 열 레이블이 포함 된 임의의 행렬 데이터\n",
    "    - 다른 형태의 관찰 / 통계 데이터 세트\n",
    "---"
   ]
  },
  {
   "cell_type": "code",
   "execution_count": 8,
   "id": "436a1833",
   "metadata": {},
   "outputs": [],
   "source": [
    "import numpy as np\n",
    "import pandas as pd"
   ]
  },
  {
   "cell_type": "markdown",
   "id": "b7b52349",
   "metadata": {},
   "source": [
    "## 2. 시리즈(Series)\n",
    "- 데이터프레임의 하위 자료형, 1개의 열로 구성\n",
    "- 양식 : **pd.Series(data, index = index, name = name)** (index : 각 행의 이름, name : 열의 이름)"
   ]
  },
  {
   "cell_type": "markdown",
   "id": "5441904a",
   "metadata": {},
   "source": [
    "#### 1) 딕셔너리로 만들기"
   ]
  },
  {
   "cell_type": "code",
   "execution_count": 9,
   "id": "2e86a735",
   "metadata": {},
   "outputs": [
    {
     "data": {
      "text/plain": [
       "a    1\n",
       "b    2\n",
       "c    3\n",
       "dtype: int64"
      ]
     },
     "execution_count": 9,
     "metadata": {},
     "output_type": "execute_result"
    }
   ],
   "source": [
    "dict_data = {'a':1, 'b':2, 'c':3}\n",
    "series_data = pd.Series(dict_data)\n",
    "series_data"
   ]
  },
  {
   "cell_type": "code",
   "execution_count": 10,
   "id": "1511cc86",
   "metadata": {},
   "outputs": [
    {
     "data": {
      "text/plain": [
       "pandas.core.series.Series"
      ]
     },
     "execution_count": 10,
     "metadata": {},
     "output_type": "execute_result"
    }
   ],
   "source": [
    "type(series_data)  # Series의 타입"
   ]
  },
  {
   "cell_type": "code",
   "execution_count": 14,
   "id": "bf749f41",
   "metadata": {
    "scrolled": true
   },
   "outputs": [
    {
     "data": {
      "text/plain": [
       "Index(['a', 'b', 'c'], dtype='object')"
      ]
     },
     "execution_count": 14,
     "metadata": {},
     "output_type": "execute_result"
    }
   ],
   "source": [
    "series_data.index  # 인덱스"
   ]
  },
  {
   "cell_type": "code",
   "execution_count": 15,
   "id": "e9a460af",
   "metadata": {
    "scrolled": true
   },
   "outputs": [
    {
     "data": {
      "text/plain": [
       "array([1, 2, 3], dtype=int64)"
      ]
     },
     "execution_count": 15,
     "metadata": {},
     "output_type": "execute_result"
    }
   ],
   "source": [
    "series_data.values  # 값"
   ]
  },
  {
   "cell_type": "markdown",
   "id": "c84239c0",
   "metadata": {},
   "source": [
    "#### 2) 리스트로 만들기(튜플도 동일)"
   ]
  },
  {
   "cell_type": "code",
   "execution_count": 24,
   "id": "12f1e7ab",
   "metadata": {
    "scrolled": false
   },
   "outputs": [
    {
     "data": {
      "text/plain": [
       "name       Jones\n",
       "PI          3.14\n",
       "score         90\n",
       "Boolean     True\n",
       "dtype: object"
      ]
     },
     "execution_count": 24,
     "metadata": {},
     "output_type": "execute_result"
    }
   ],
   "source": [
    "list_data = ['Jones', 3.14, 90, True]\n",
    "series_data = pd.Series(list_data, index = ['name', 'PI', 'score', 'Boolean'])\n",
    "series_data"
   ]
  },
  {
   "cell_type": "code",
   "execution_count": 25,
   "id": "a22b1c25",
   "metadata": {
    "scrolled": true
   },
   "outputs": [
    {
     "name": "stdout",
     "output_type": "stream",
     "text": [
      "Index(['name', 'PI', 'score', 'Boolean'], dtype='object')\n",
      "['Jones' 3.14 90 True]\n"
     ]
    }
   ],
   "source": [
    "print(series_data.index)\n",
    "print(series_data.values)"
   ]
  },
  {
   "cell_type": "markdown",
   "id": "30feb9ab",
   "metadata": {},
   "source": [
    "#### 3) 원소 선택, 인덱싱(Indexing)  (※ 위의 list_data 활용)"
   ]
  },
  {
   "cell_type": "code",
   "execution_count": 27,
   "id": "cf566bf8",
   "metadata": {},
   "outputs": [
    {
     "name": "stdout",
     "output_type": "stream",
     "text": [
      "Jones 3.14\n"
     ]
    }
   ],
   "source": [
    "print(series_data[0], series_data['PI'])  # 원소 선택(전자는 리스트처럼, 후자는 딕셔너리처럼 사용하는 방식)"
   ]
  },
  {
   "cell_type": "code",
   "execution_count": 40,
   "id": "1f1e8022",
   "metadata": {
    "scrolled": false
   },
   "outputs": [
    {
     "name": "stdout",
     "output_type": "stream",
     "text": [
      "PI       3.14\n",
      "score      90\n",
      "dtype: object \n",
      "\n",
      "PI         3.14\n",
      "score        90\n",
      "Boolean    True\n",
      "dtype: object \n",
      "\n",
      "PI         3.14\n",
      "Boolean    True\n",
      "dtype: object\n"
     ]
    }
   ],
   "source": [
    "print(series_data[[1, 2]],'\\n')  # 1, 2번 열 선택 ([]가 2개 중첩)\n",
    "print(series_data[[1, 2, 3]],'\\n')  # 1, 2, 3번 열 선택\n",
    "\n",
    "print(series_data[['PI', 'Boolean']])  # PI, Boolean 을 인덱스로 가지고 있는 열 선택"
   ]
  },
  {
   "cell_type": "code",
   "execution_count": 42,
   "id": "f9926343",
   "metadata": {
    "scrolled": true
   },
   "outputs": [
    {
     "name": "stdout",
     "output_type": "stream",
     "text": [
      "name    Jones\n",
      "PI       3.14\n",
      "dtype: object \n",
      "\n",
      "name     Jones\n",
      "PI        3.14\n",
      "score       90\n",
      "dtype: object\n"
     ]
    }
   ],
   "source": [
    "print(series_data[0:2], '\\n')  # 0 ~ 1번 열 선택 ([]가 1번 사용)\n",
    "print(series_data['name':'score'])  # name ~ score 까지 출력 (\"score\"도 출력된다!!)"
   ]
  },
  {
   "cell_type": "markdown",
   "id": "3d26d404",
   "metadata": {},
   "source": [
    "---"
   ]
  },
  {
   "cell_type": "markdown",
   "id": "c384c4aa",
   "metadata": {},
   "source": [
    "## 3. 데이터 프레임(Dataframe)\n",
    "- 시리즈가 여러개 합쳐진 자료형 (데이터 프레임에서 하나의 열만 가져오면, 이는 곧 시리즈(Series)이다.)"
   ]
  },
  {
   "cell_type": "markdown",
   "id": "549cbecc",
   "metadata": {},
   "source": [
    "### 1) 딕셔너리로 만들기"
   ]
  },
  {
   "cell_type": "code",
   "execution_count": 61,
   "id": "81d2bfe9",
   "metadata": {
    "scrolled": true
   },
   "outputs": [
    {
     "data": {
      "text/html": [
       "<div>\n",
       "<style scoped>\n",
       "    .dataframe tbody tr th:only-of-type {\n",
       "        vertical-align: middle;\n",
       "    }\n",
       "\n",
       "    .dataframe tbody tr th {\n",
       "        vertical-align: top;\n",
       "    }\n",
       "\n",
       "    .dataframe thead th {\n",
       "        text-align: right;\n",
       "    }\n",
       "</style>\n",
       "<table border=\"1\" class=\"dataframe\">\n",
       "  <thead>\n",
       "    <tr style=\"text-align: right;\">\n",
       "      <th></th>\n",
       "      <th>a0</th>\n",
       "      <th>a1</th>\n",
       "      <th>a2</th>\n",
       "      <th>a3</th>\n",
       "      <th>a4</th>\n",
       "    </tr>\n",
       "  </thead>\n",
       "  <tbody>\n",
       "    <tr>\n",
       "      <th>0</th>\n",
       "      <td>1</td>\n",
       "      <td>4</td>\n",
       "      <td>7</td>\n",
       "      <td>10</td>\n",
       "      <td>13</td>\n",
       "    </tr>\n",
       "    <tr>\n",
       "      <th>1</th>\n",
       "      <td>2</td>\n",
       "      <td>5</td>\n",
       "      <td>8</td>\n",
       "      <td>11</td>\n",
       "      <td>14</td>\n",
       "    </tr>\n",
       "    <tr>\n",
       "      <th>2</th>\n",
       "      <td>3</td>\n",
       "      <td>6</td>\n",
       "      <td>9</td>\n",
       "      <td>12</td>\n",
       "      <td>15</td>\n",
       "    </tr>\n",
       "  </tbody>\n",
       "</table>\n",
       "</div>"
      ],
      "text/plain": [
       "   a0  a1  a2  a3  a4\n",
       "0   1   4   7  10  13\n",
       "1   2   5   8  11  14\n",
       "2   3   6   9  12  15"
      ]
     },
     "execution_count": 61,
     "metadata": {},
     "output_type": "execute_result"
    }
   ],
   "source": [
    "dict_data = {'a0':[1,2,3],'a1':[4,5,6],'a2':[7,8,9],'a3':[10,11,12],'a4':[13,14,15]}  # 양식 : {column's name : [elements in column]}\n",
    "df_data = pd.DataFrame(dict_data)\n",
    "df_data"
   ]
  },
  {
   "cell_type": "code",
   "execution_count": 63,
   "id": "c8a0fc1c",
   "metadata": {
    "scrolled": true
   },
   "outputs": [
    {
     "name": "stdout",
     "output_type": "stream",
     "text": [
      "0    4\n",
      "1    5\n",
      "2    6\n",
      "Name: a1, dtype: int64 \n",
      " <class 'pandas.core.series.Series'>\n"
     ]
    }
   ],
   "source": [
    "print(df_data['a1'], '\\n', type(df_data['a1']))  # 데이터 프레임에서 하나의 열만 가져오면, Series가 된다."
   ]
  },
  {
   "cell_type": "markdown",
   "id": "de4fd23c",
   "metadata": {},
   "source": [
    "### 2) 리스트로 만들기\n",
    "- 리스트들이 하나의 행(row)이 된다. (딕셔너리는 데이터 프레임의 열(column)을, 리스트는 행(row)을 쌓아가는 형태!)"
   ]
  },
  {
   "cell_type": "code",
   "execution_count": 81,
   "id": "50fd8f7d",
   "metadata": {
    "scrolled": true
   },
   "outputs": [
    {
     "data": {
      "text/html": [
       "<div>\n",
       "<style scoped>\n",
       "    .dataframe tbody tr th:only-of-type {\n",
       "        vertical-align: middle;\n",
       "    }\n",
       "\n",
       "    .dataframe tbody tr th {\n",
       "        vertical-align: top;\n",
       "    }\n",
       "\n",
       "    .dataframe thead th {\n",
       "        text-align: right;\n",
       "    }\n",
       "</style>\n",
       "<table border=\"1\" class=\"dataframe\">\n",
       "  <thead>\n",
       "    <tr style=\"text-align: right;\">\n",
       "      <th></th>\n",
       "      <th>나이</th>\n",
       "      <th>성별</th>\n",
       "      <th>거주지</th>\n",
       "    </tr>\n",
       "  </thead>\n",
       "  <tbody>\n",
       "    <tr>\n",
       "      <th>철수</th>\n",
       "      <td>12</td>\n",
       "      <td>남</td>\n",
       "      <td>서울</td>\n",
       "    </tr>\n",
       "    <tr>\n",
       "      <th>영희</th>\n",
       "      <td>13</td>\n",
       "      <td>여</td>\n",
       "      <td>화성</td>\n",
       "    </tr>\n",
       "    <tr>\n",
       "      <th>민수</th>\n",
       "      <td>15</td>\n",
       "      <td>남</td>\n",
       "      <td>부산</td>\n",
       "    </tr>\n",
       "    <tr>\n",
       "      <th>민아</th>\n",
       "      <td>11</td>\n",
       "      <td>여</td>\n",
       "      <td>남양주</td>\n",
       "    </tr>\n",
       "  </tbody>\n",
       "</table>\n",
       "</div>"
      ],
      "text/plain": [
       "    나이 성별  거주지\n",
       "철수  12  남   서울\n",
       "영희  13  여   화성\n",
       "민수  15  남   부산\n",
       "민아  11  여  남양주"
      ]
     },
     "execution_count": 81,
     "metadata": {},
     "output_type": "execute_result"
    }
   ],
   "source": [
    "# 양식 : pd.DataFrame([list], index = index, columns = columns)\n",
    "df_data = pd.DataFrame([[12, '남', '서울'], [13, '여', '화성'], [15, '남', '부산'], [11, '여', '남양주']], index = ['철수', '영희', '민수', '민아'], columns = ['나이', '성별', '거주지'])\n",
    "df_data"
   ]
  },
  {
   "cell_type": "code",
   "execution_count": 82,
   "id": "30d15a93",
   "metadata": {},
   "outputs": [
    {
     "name": "stdout",
     "output_type": "stream",
     "text": [
      "Index(['철수', '영희', '민수', '민아'], dtype='object')\n",
      "Index(['나이', '성별', '거주지'], dtype='object')\n",
      "[[12 '남' '서울']\n",
      " [13 '여' '화성']\n",
      " [15 '남' '부산']\n",
      " [11 '여' '남양주']]\n"
     ]
    }
   ],
   "source": [
    "print(df_data.index)  # 인덱스\n",
    "print(df_data.columns)  # 열(column)의 이름\n",
    "print(df_data.values)  # value (데이터 행렬)"
   ]
  },
  {
   "cell_type": "markdown",
   "id": "a6addc5c",
   "metadata": {},
   "source": [
    "### 3) 행, 열 이름 변경(기본 방식, rename 메소드)"
   ]
  },
  {
   "cell_type": "code",
   "execution_count": 83,
   "id": "4fe8f489",
   "metadata": {
    "scrolled": true
   },
   "outputs": [
    {
     "name": "stdout",
     "output_type": "stream",
     "text": [
      "Index(['Jones', 'Lisa', 'Tom', 'Micheal'], dtype='object')\n"
     ]
    }
   ],
   "source": [
    "df_data.index = ['Jones', 'Lisa', 'Tom', 'Micheal']  # 인덱스 변경 (column의 이름 변경도 마찬가지)\n",
    "print(df_data.index)"
   ]
  },
  {
   "cell_type": "code",
   "execution_count": 84,
   "id": "26ef0326",
   "metadata": {
    "scrolled": true
   },
   "outputs": [
    {
     "data": {
      "text/html": [
       "<div>\n",
       "<style scoped>\n",
       "    .dataframe tbody tr th:only-of-type {\n",
       "        vertical-align: middle;\n",
       "    }\n",
       "\n",
       "    .dataframe tbody tr th {\n",
       "        vertical-align: top;\n",
       "    }\n",
       "\n",
       "    .dataframe thead th {\n",
       "        text-align: right;\n",
       "    }\n",
       "</style>\n",
       "<table border=\"1\" class=\"dataframe\">\n",
       "  <thead>\n",
       "    <tr style=\"text-align: right;\">\n",
       "      <th></th>\n",
       "      <th>age</th>\n",
       "      <th>sex</th>\n",
       "      <th>거주지</th>\n",
       "    </tr>\n",
       "  </thead>\n",
       "  <tbody>\n",
       "    <tr>\n",
       "      <th>Jones</th>\n",
       "      <td>12</td>\n",
       "      <td>남</td>\n",
       "      <td>서울</td>\n",
       "    </tr>\n",
       "    <tr>\n",
       "      <th>Lisa</th>\n",
       "      <td>13</td>\n",
       "      <td>여</td>\n",
       "      <td>화성</td>\n",
       "    </tr>\n",
       "    <tr>\n",
       "      <th>Tom</th>\n",
       "      <td>15</td>\n",
       "      <td>남</td>\n",
       "      <td>부산</td>\n",
       "    </tr>\n",
       "    <tr>\n",
       "      <th>Micheal</th>\n",
       "      <td>11</td>\n",
       "      <td>여</td>\n",
       "      <td>남양주</td>\n",
       "    </tr>\n",
       "  </tbody>\n",
       "</table>\n",
       "</div>"
      ],
      "text/plain": [
       "         age sex  거주지\n",
       "Jones     12   남   서울\n",
       "Lisa      13   여   화성\n",
       "Tom       15   남   부산\n",
       "Micheal   11   여  남양주"
      ]
     },
     "execution_count": 84,
     "metadata": {},
     "output_type": "execute_result"
    }
   ],
   "source": [
    "# 양식 : df.rename(columns={변경 전 열이름, 변경 후 열이름}, inplace = True)\n",
    "df_data.rename(columns = {'나이':'age', '성별' : 'sex'}, inplace = True)\n",
    "df_data"
   ]
  },
  {
   "cell_type": "markdown",
   "id": "6ba1863a",
   "metadata": {},
   "source": [
    "### 4) 행 / 열 삭제(drop 메소드)"
   ]
  },
  {
   "cell_type": "code",
   "execution_count": 94,
   "id": "7e05a0e0",
   "metadata": {
    "scrolled": true
   },
   "outputs": [
    {
     "data": {
      "text/html": [
       "<div>\n",
       "<style scoped>\n",
       "    .dataframe tbody tr th:only-of-type {\n",
       "        vertical-align: middle;\n",
       "    }\n",
       "\n",
       "    .dataframe tbody tr th {\n",
       "        vertical-align: top;\n",
       "    }\n",
       "\n",
       "    .dataframe thead th {\n",
       "        text-align: right;\n",
       "    }\n",
       "</style>\n",
       "<table border=\"1\" class=\"dataframe\">\n",
       "  <thead>\n",
       "    <tr style=\"text-align: right;\">\n",
       "      <th></th>\n",
       "      <th>Math</th>\n",
       "      <th>English</th>\n",
       "      <th>Music</th>\n",
       "      <th>Ethics</th>\n",
       "    </tr>\n",
       "  </thead>\n",
       "  <tbody>\n",
       "    <tr>\n",
       "      <th>student_1</th>\n",
       "      <td>100</td>\n",
       "      <td>98</td>\n",
       "      <td>100</td>\n",
       "      <td>30</td>\n",
       "    </tr>\n",
       "    <tr>\n",
       "      <th>student_2</th>\n",
       "      <td>80</td>\n",
       "      <td>89</td>\n",
       "      <td>95</td>\n",
       "      <td>100</td>\n",
       "    </tr>\n",
       "    <tr>\n",
       "      <th>student_3</th>\n",
       "      <td>70</td>\n",
       "      <td>95</td>\n",
       "      <td>80</td>\n",
       "      <td>90</td>\n",
       "    </tr>\n",
       "  </tbody>\n",
       "</table>\n",
       "</div>"
      ],
      "text/plain": [
       "           Math  English  Music  Ethics\n",
       "student_1   100       98    100      30\n",
       "student_2    80       89     95     100\n",
       "student_3    70       95     80      90"
      ]
     },
     "execution_count": 94,
     "metadata": {},
     "output_type": "execute_result"
    }
   ],
   "source": [
    "exam_data = {'Math':[100,80,70], 'English':[98,89,95],\n",
    "            'Music':[100,95,80], 'Ethics':[30,100,90]}\n",
    "df_data = pd.DataFrame(exam_data, index = ['student_1','student_2','student_3'])\n",
    "df_data"
   ]
  },
  {
   "cell_type": "code",
   "execution_count": 95,
   "id": "cb578848",
   "metadata": {
    "scrolled": true
   },
   "outputs": [
    {
     "data": {
      "text/html": [
       "<div>\n",
       "<style scoped>\n",
       "    .dataframe tbody tr th:only-of-type {\n",
       "        vertical-align: middle;\n",
       "    }\n",
       "\n",
       "    .dataframe tbody tr th {\n",
       "        vertical-align: top;\n",
       "    }\n",
       "\n",
       "    .dataframe thead th {\n",
       "        text-align: right;\n",
       "    }\n",
       "</style>\n",
       "<table border=\"1\" class=\"dataframe\">\n",
       "  <thead>\n",
       "    <tr style=\"text-align: right;\">\n",
       "      <th></th>\n",
       "      <th>Math</th>\n",
       "      <th>English</th>\n",
       "      <th>Music</th>\n",
       "    </tr>\n",
       "  </thead>\n",
       "  <tbody>\n",
       "    <tr>\n",
       "      <th>student_1</th>\n",
       "      <td>100</td>\n",
       "      <td>98</td>\n",
       "      <td>100</td>\n",
       "    </tr>\n",
       "    <tr>\n",
       "      <th>student_2</th>\n",
       "      <td>80</td>\n",
       "      <td>89</td>\n",
       "      <td>95</td>\n",
       "    </tr>\n",
       "  </tbody>\n",
       "</table>\n",
       "</div>"
      ],
      "text/plain": [
       "           Math  English  Music\n",
       "student_1   100       98    100\n",
       "student_2    80       89     95"
      ]
     },
     "execution_count": 95,
     "metadata": {},
     "output_type": "execute_result"
    }
   ],
   "source": [
    "# 양식 : df.drop('행 또는 열이름', axis = 0 or 1, inplace = True)\n",
    "df_data.drop('Ethics', axis = 1, inplace = True)  # 열 삭제\n",
    "df_data.drop('student_3', inplace = True)  # 행 삭제 (default값 -> axis : 0)\n",
    "df_data"
   ]
  },
  {
   "cell_type": "code",
   "execution_count": 96,
   "id": "d725c81b",
   "metadata": {
    "scrolled": true
   },
   "outputs": [
    {
     "data": {
      "text/html": [
       "<div>\n",
       "<style scoped>\n",
       "    .dataframe tbody tr th:only-of-type {\n",
       "        vertical-align: middle;\n",
       "    }\n",
       "\n",
       "    .dataframe tbody tr th {\n",
       "        vertical-align: top;\n",
       "    }\n",
       "\n",
       "    .dataframe thead th {\n",
       "        text-align: right;\n",
       "    }\n",
       "</style>\n",
       "<table border=\"1\" class=\"dataframe\">\n",
       "  <thead>\n",
       "    <tr style=\"text-align: right;\">\n",
       "      <th></th>\n",
       "      <th>English</th>\n",
       "    </tr>\n",
       "  </thead>\n",
       "  <tbody>\n",
       "    <tr>\n",
       "      <th>student_1</th>\n",
       "      <td>98</td>\n",
       "    </tr>\n",
       "    <tr>\n",
       "      <th>student_2</th>\n",
       "      <td>89</td>\n",
       "    </tr>\n",
       "  </tbody>\n",
       "</table>\n",
       "</div>"
      ],
      "text/plain": [
       "           English\n",
       "student_1       98\n",
       "student_2       89"
      ]
     },
     "execution_count": 96,
     "metadata": {},
     "output_type": "execute_result"
    }
   ],
   "source": [
    "df_data.drop(['Math', 'Music'], axis = 1, inplace = True)  # 두 개 이상의 열을 삭제하고 싶으면 대괄호 사용!\n",
    "df_data"
   ]
  },
  {
   "cell_type": "markdown",
   "id": "f937e71b",
   "metadata": {},
   "source": [
    "### 5) 행 선택 (iloc / loc 메소드)\n",
    "- 행의 인덱스나 인덱스명을 key값처럼 사용한다.\n",
    "- loc은 이름으로, iloc은 숫자로 인덱싱한다.\n",
    "- 한 개의 행만 선택 시, Series의 형태로 반환하고, 여러 행 선택 시, DataFrame의 형태로 반환한다.\n",
    "- 열의 선택은 df[열 이름]로 한다."
   ]
  },
  {
   "cell_type": "code",
   "execution_count": 107,
   "id": "ae3b7bfe",
   "metadata": {
    "scrolled": true
   },
   "outputs": [
    {
     "name": "stdout",
     "output_type": "stream",
     "text": [
      "수학    90\n",
      "영어    90\n",
      "음악    85\n",
      "체육    80\n",
      "Name: 윤아, dtype: int64 \n",
      "\n"
     ]
    },
    {
     "data": {
      "text/html": [
       "<div>\n",
       "<style scoped>\n",
       "    .dataframe tbody tr th:only-of-type {\n",
       "        vertical-align: middle;\n",
       "    }\n",
       "\n",
       "    .dataframe tbody tr th {\n",
       "        vertical-align: top;\n",
       "    }\n",
       "\n",
       "    .dataframe thead th {\n",
       "        text-align: right;\n",
       "    }\n",
       "</style>\n",
       "<table border=\"1\" class=\"dataframe\">\n",
       "  <thead>\n",
       "    <tr style=\"text-align: right;\">\n",
       "      <th></th>\n",
       "      <th>수학</th>\n",
       "      <th>영어</th>\n",
       "      <th>음악</th>\n",
       "      <th>체육</th>\n",
       "    </tr>\n",
       "  </thead>\n",
       "  <tbody>\n",
       "    <tr>\n",
       "      <th>수혁</th>\n",
       "      <td>80</td>\n",
       "      <td>89</td>\n",
       "      <td>95</td>\n",
       "      <td>90</td>\n",
       "    </tr>\n",
       "    <tr>\n",
       "      <th>지민</th>\n",
       "      <td>100</td>\n",
       "      <td>95</td>\n",
       "      <td>90</td>\n",
       "      <td>90</td>\n",
       "    </tr>\n",
       "  </tbody>\n",
       "</table>\n",
       "</div>"
      ],
      "text/plain": [
       "     수학  영어  음악  체육\n",
       "수혁   80  89  95  90\n",
       "지민  100  95  90  90"
      ]
     },
     "execution_count": 107,
     "metadata": {},
     "output_type": "execute_result"
    }
   ],
   "source": [
    "exam_data = {'수학':[90,80,100], '영어':[90,89,95],\n",
    "            '음악':[85,95,90], '체육':[80,90,90]}\n",
    "df = pd.DataFrame(exam_data, index = ['윤아','수혁','지민'])\n",
    "\n",
    "label1 = df.iloc[0]  # iloc로 인덱싱\n",
    "print(label1, '\\n')  # loc로 인덱싱\n",
    "\n",
    "lable2 = df.loc[['수혁','지민']]\n",
    "lable2"
   ]
  },
  {
   "cell_type": "markdown",
   "id": "17c132b4",
   "metadata": {},
   "source": [
    "### 6) 범위 슬라이싱"
   ]
  },
  {
   "cell_type": "code",
   "execution_count": 119,
   "id": "edf46716",
   "metadata": {},
   "outputs": [
    {
     "data": {
      "text/html": [
       "<div>\n",
       "<style scoped>\n",
       "    .dataframe tbody tr th:only-of-type {\n",
       "        vertical-align: middle;\n",
       "    }\n",
       "\n",
       "    .dataframe tbody tr th {\n",
       "        vertical-align: top;\n",
       "    }\n",
       "\n",
       "    .dataframe thead th {\n",
       "        text-align: right;\n",
       "    }\n",
       "</style>\n",
       "<table border=\"1\" class=\"dataframe\">\n",
       "  <thead>\n",
       "    <tr style=\"text-align: right;\">\n",
       "      <th></th>\n",
       "      <th>수학</th>\n",
       "      <th>영어</th>\n",
       "      <th>음악</th>\n",
       "      <th>체육</th>\n",
       "    </tr>\n",
       "  </thead>\n",
       "  <tbody>\n",
       "    <tr>\n",
       "      <th>윤아</th>\n",
       "      <td>90</td>\n",
       "      <td>90</td>\n",
       "      <td>85</td>\n",
       "      <td>80</td>\n",
       "    </tr>\n",
       "    <tr>\n",
       "      <th>수혁</th>\n",
       "      <td>80</td>\n",
       "      <td>89</td>\n",
       "      <td>95</td>\n",
       "      <td>90</td>\n",
       "    </tr>\n",
       "    <tr>\n",
       "      <th>지민</th>\n",
       "      <td>100</td>\n",
       "      <td>95</td>\n",
       "      <td>50</td>\n",
       "      <td>90</td>\n",
       "    </tr>\n",
       "    <tr>\n",
       "      <th>우철</th>\n",
       "      <td>60</td>\n",
       "      <td>70</td>\n",
       "      <td>50</td>\n",
       "      <td>100</td>\n",
       "    </tr>\n",
       "    <tr>\n",
       "      <th>유나</th>\n",
       "      <td>70</td>\n",
       "      <td>100</td>\n",
       "      <td>80</td>\n",
       "      <td>50</td>\n",
       "    </tr>\n",
       "  </tbody>\n",
       "</table>\n",
       "</div>"
      ],
      "text/plain": [
       "     수학   영어  음악   체육\n",
       "윤아   90   90  85   80\n",
       "수혁   80   89  95   90\n",
       "지민  100   95  50   90\n",
       "우철   60   70  50  100\n",
       "유나   70  100  80   50"
      ]
     },
     "execution_count": 119,
     "metadata": {},
     "output_type": "execute_result"
    }
   ],
   "source": [
    "exam_data = {'수학':[90,80,100,60,70], '영어':[90,89,95,70,100],\n",
    "            '음악':[85,95,50,50,80], '체육':[80,90,90,100,50]}\n",
    "df = pd.DataFrame(exam_data, index = ['윤아','수혁','지민', '우철', '유나'])\n",
    "df"
   ]
  },
  {
   "cell_type": "code",
   "execution_count": 121,
   "id": "c62f96ca",
   "metadata": {
    "scrolled": true
   },
   "outputs": [
    {
     "data": {
      "text/html": [
       "<div>\n",
       "<style scoped>\n",
       "    .dataframe tbody tr th:only-of-type {\n",
       "        vertical-align: middle;\n",
       "    }\n",
       "\n",
       "    .dataframe tbody tr th {\n",
       "        vertical-align: top;\n",
       "    }\n",
       "\n",
       "    .dataframe thead th {\n",
       "        text-align: right;\n",
       "    }\n",
       "</style>\n",
       "<table border=\"1\" class=\"dataframe\">\n",
       "  <thead>\n",
       "    <tr style=\"text-align: right;\">\n",
       "      <th></th>\n",
       "      <th>수학</th>\n",
       "      <th>영어</th>\n",
       "      <th>음악</th>\n",
       "      <th>체육</th>\n",
       "    </tr>\n",
       "  </thead>\n",
       "  <tbody>\n",
       "    <tr>\n",
       "      <th>윤아</th>\n",
       "      <td>90</td>\n",
       "      <td>90</td>\n",
       "      <td>85</td>\n",
       "      <td>80</td>\n",
       "    </tr>\n",
       "    <tr>\n",
       "      <th>지민</th>\n",
       "      <td>100</td>\n",
       "      <td>95</td>\n",
       "      <td>50</td>\n",
       "      <td>90</td>\n",
       "    </tr>\n",
       "    <tr>\n",
       "      <th>유나</th>\n",
       "      <td>70</td>\n",
       "      <td>100</td>\n",
       "      <td>80</td>\n",
       "      <td>50</td>\n",
       "    </tr>\n",
       "  </tbody>\n",
       "</table>\n",
       "</div>"
      ],
      "text/plain": [
       "     수학   영어  음악  체육\n",
       "윤아   90   90  85  80\n",
       "지민  100   95  50  90\n",
       "유나   70  100  80  50"
      ]
     },
     "execution_count": 121,
     "metadata": {},
     "output_type": "execute_result"
    }
   ],
   "source": [
    "df.iloc[: : 2]  # 모든 행을 2행 간격으로 선택"
   ]
  },
  {
   "cell_type": "code",
   "execution_count": 122,
   "id": "8bc42da2",
   "metadata": {
    "scrolled": true
   },
   "outputs": [
    {
     "data": {
      "text/html": [
       "<div>\n",
       "<style scoped>\n",
       "    .dataframe tbody tr th:only-of-type {\n",
       "        vertical-align: middle;\n",
       "    }\n",
       "\n",
       "    .dataframe tbody tr th {\n",
       "        vertical-align: top;\n",
       "    }\n",
       "\n",
       "    .dataframe thead th {\n",
       "        text-align: right;\n",
       "    }\n",
       "</style>\n",
       "<table border=\"1\" class=\"dataframe\">\n",
       "  <thead>\n",
       "    <tr style=\"text-align: right;\">\n",
       "      <th></th>\n",
       "      <th>수학</th>\n",
       "      <th>영어</th>\n",
       "      <th>음악</th>\n",
       "      <th>체육</th>\n",
       "    </tr>\n",
       "  </thead>\n",
       "  <tbody>\n",
       "    <tr>\n",
       "      <th>윤아</th>\n",
       "      <td>90</td>\n",
       "      <td>90</td>\n",
       "      <td>85</td>\n",
       "      <td>80</td>\n",
       "    </tr>\n",
       "    <tr>\n",
       "      <th>우철</th>\n",
       "      <td>60</td>\n",
       "      <td>70</td>\n",
       "      <td>50</td>\n",
       "      <td>100</td>\n",
       "    </tr>\n",
       "  </tbody>\n",
       "</table>\n",
       "</div>"
      ],
      "text/plain": [
       "    수학  영어  음악   체육\n",
       "윤아  90  90  85   80\n",
       "우철  60  70  50  100"
      ]
     },
     "execution_count": 122,
     "metadata": {},
     "output_type": "execute_result"
    }
   ],
   "source": [
    "df.iloc[0:4:3]  # 0부터 3행까지 3행 간격으로 선택"
   ]
  },
  {
   "cell_type": "code",
   "execution_count": 123,
   "id": "9aa21285",
   "metadata": {
    "scrolled": false
   },
   "outputs": [
    {
     "data": {
      "text/html": [
       "<div>\n",
       "<style scoped>\n",
       "    .dataframe tbody tr th:only-of-type {\n",
       "        vertical-align: middle;\n",
       "    }\n",
       "\n",
       "    .dataframe tbody tr th {\n",
       "        vertical-align: top;\n",
       "    }\n",
       "\n",
       "    .dataframe thead th {\n",
       "        text-align: right;\n",
       "    }\n",
       "</style>\n",
       "<table border=\"1\" class=\"dataframe\">\n",
       "  <thead>\n",
       "    <tr style=\"text-align: right;\">\n",
       "      <th></th>\n",
       "      <th>수학</th>\n",
       "      <th>영어</th>\n",
       "      <th>음악</th>\n",
       "      <th>체육</th>\n",
       "    </tr>\n",
       "  </thead>\n",
       "  <tbody>\n",
       "    <tr>\n",
       "      <th>유나</th>\n",
       "      <td>70</td>\n",
       "      <td>100</td>\n",
       "      <td>80</td>\n",
       "      <td>50</td>\n",
       "    </tr>\n",
       "    <tr>\n",
       "      <th>우철</th>\n",
       "      <td>60</td>\n",
       "      <td>70</td>\n",
       "      <td>50</td>\n",
       "      <td>100</td>\n",
       "    </tr>\n",
       "    <tr>\n",
       "      <th>지민</th>\n",
       "      <td>100</td>\n",
       "      <td>95</td>\n",
       "      <td>50</td>\n",
       "      <td>90</td>\n",
       "    </tr>\n",
       "    <tr>\n",
       "      <th>수혁</th>\n",
       "      <td>80</td>\n",
       "      <td>89</td>\n",
       "      <td>95</td>\n",
       "      <td>90</td>\n",
       "    </tr>\n",
       "    <tr>\n",
       "      <th>윤아</th>\n",
       "      <td>90</td>\n",
       "      <td>90</td>\n",
       "      <td>85</td>\n",
       "      <td>80</td>\n",
       "    </tr>\n",
       "  </tbody>\n",
       "</table>\n",
       "</div>"
      ],
      "text/plain": [
       "     수학   영어  음악   체육\n",
       "유나   70  100  80   50\n",
       "우철   60   70  50  100\n",
       "지민  100   95  50   90\n",
       "수혁   80   89  95   90\n",
       "윤아   90   90  85   80"
      ]
     },
     "execution_count": 123,
     "metadata": {},
     "output_type": "execute_result"
    }
   ],
   "source": [
    "df.iloc[: : -1] # 모든 행을 -1행 간격으로, 즉 역순 정렬"
   ]
  },
  {
   "cell_type": "markdown",
   "id": "e6910795",
   "metadata": {},
   "source": [
    "### 7) 원소 선택(loc, iloc)"
   ]
  },
  {
   "cell_type": "code",
   "execution_count": 128,
   "id": "5c9b0ef2",
   "metadata": {},
   "outputs": [
    {
     "data": {
      "text/plain": [
       "90"
      ]
     },
     "execution_count": 128,
     "metadata": {},
     "output_type": "execute_result"
    }
   ],
   "source": [
    "df.loc[['윤아', '지민']]  # 두 개 이상의 행 선택 -> 대괄호 중첩\n",
    "df.loc['윤아', '수학']  # loc[n, m] : n행의 m열에 있는 원소 선택 -> 대괄호 1번  "
   ]
  },
  {
   "cell_type": "code",
   "execution_count": 133,
   "id": "60467d2f",
   "metadata": {
    "scrolled": true
   },
   "outputs": [
    {
     "data": {
      "text/plain": [
       "영어    90\n",
       "음악    85\n",
       "Name: 윤아, dtype: int64"
      ]
     },
     "execution_count": 133,
     "metadata": {},
     "output_type": "execute_result"
    }
   ],
   "source": [
    "df.iloc[0, 1:3]  # # iloc[n, m] : n행의 m열에 있는 원소 선택"
   ]
  },
  {
   "cell_type": "markdown",
   "id": "af121ebe",
   "metadata": {},
   "source": [
    "### 8) 행, 열 추가"
   ]
  },
  {
   "cell_type": "code",
   "execution_count": 146,
   "id": "04675062",
   "metadata": {
    "scrolled": true
   },
   "outputs": [
    {
     "data": {
      "text/html": [
       "<div>\n",
       "<style scoped>\n",
       "    .dataframe tbody tr th:only-of-type {\n",
       "        vertical-align: middle;\n",
       "    }\n",
       "\n",
       "    .dataframe tbody tr th {\n",
       "        vertical-align: top;\n",
       "    }\n",
       "\n",
       "    .dataframe thead th {\n",
       "        text-align: right;\n",
       "    }\n",
       "</style>\n",
       "<table border=\"1\" class=\"dataframe\">\n",
       "  <thead>\n",
       "    <tr style=\"text-align: right;\">\n",
       "      <th></th>\n",
       "      <th>수학</th>\n",
       "      <th>영어</th>\n",
       "      <th>음악</th>\n",
       "      <th>체육</th>\n",
       "    </tr>\n",
       "  </thead>\n",
       "  <tbody>\n",
       "    <tr>\n",
       "      <th>윤아</th>\n",
       "      <td>90</td>\n",
       "      <td>90</td>\n",
       "      <td>85</td>\n",
       "      <td>80</td>\n",
       "    </tr>\n",
       "    <tr>\n",
       "      <th>수혁</th>\n",
       "      <td>80</td>\n",
       "      <td>89</td>\n",
       "      <td>95</td>\n",
       "      <td>90</td>\n",
       "    </tr>\n",
       "    <tr>\n",
       "      <th>지민</th>\n",
       "      <td>100</td>\n",
       "      <td>95</td>\n",
       "      <td>50</td>\n",
       "      <td>90</td>\n",
       "    </tr>\n",
       "    <tr>\n",
       "      <th>우철</th>\n",
       "      <td>60</td>\n",
       "      <td>70</td>\n",
       "      <td>50</td>\n",
       "      <td>100</td>\n",
       "    </tr>\n",
       "    <tr>\n",
       "      <th>유나</th>\n",
       "      <td>70</td>\n",
       "      <td>100</td>\n",
       "      <td>80</td>\n",
       "      <td>50</td>\n",
       "    </tr>\n",
       "  </tbody>\n",
       "</table>\n",
       "</div>"
      ],
      "text/plain": [
       "     수학   영어  음악   체육\n",
       "윤아   90   90  85   80\n",
       "수혁   80   89  95   90\n",
       "지민  100   95  50   90\n",
       "우철   60   70  50  100\n",
       "유나   70  100  80   50"
      ]
     },
     "execution_count": 146,
     "metadata": {},
     "output_type": "execute_result"
    }
   ],
   "source": [
    "exam_data = {'수학':[90,80,100,60,70], '영어':[90,89,95,70,100],\n",
    "            '음악':[85,95,50,50,80], '체육':[80,90,90,100,50]}\n",
    "df = pd.DataFrame(exam_data, index = ['윤아','수혁','지민', '우철', '유나'])\n",
    "df"
   ]
  },
  {
   "cell_type": "code",
   "execution_count": 148,
   "id": "19fa574b",
   "metadata": {
    "scrolled": true
   },
   "outputs": [
    {
     "data": {
      "text/html": [
       "<div>\n",
       "<style scoped>\n",
       "    .dataframe tbody tr th:only-of-type {\n",
       "        vertical-align: middle;\n",
       "    }\n",
       "\n",
       "    .dataframe tbody tr th {\n",
       "        vertical-align: top;\n",
       "    }\n",
       "\n",
       "    .dataframe thead th {\n",
       "        text-align: right;\n",
       "    }\n",
       "</style>\n",
       "<table border=\"1\" class=\"dataframe\">\n",
       "  <thead>\n",
       "    <tr style=\"text-align: right;\">\n",
       "      <th></th>\n",
       "      <th>수학</th>\n",
       "      <th>영어</th>\n",
       "      <th>음악</th>\n",
       "      <th>체육</th>\n",
       "      <th>과학</th>\n",
       "    </tr>\n",
       "  </thead>\n",
       "  <tbody>\n",
       "    <tr>\n",
       "      <th>윤아</th>\n",
       "      <td>90.0</td>\n",
       "      <td>90.0</td>\n",
       "      <td>85.0</td>\n",
       "      <td>80.0</td>\n",
       "      <td>NaN</td>\n",
       "    </tr>\n",
       "    <tr>\n",
       "      <th>수혁</th>\n",
       "      <td>80.0</td>\n",
       "      <td>89.0</td>\n",
       "      <td>95.0</td>\n",
       "      <td>90.0</td>\n",
       "      <td>NaN</td>\n",
       "    </tr>\n",
       "    <tr>\n",
       "      <th>지민</th>\n",
       "      <td>100.0</td>\n",
       "      <td>95.0</td>\n",
       "      <td>50.0</td>\n",
       "      <td>90.0</td>\n",
       "      <td>NaN</td>\n",
       "    </tr>\n",
       "    <tr>\n",
       "      <th>우철</th>\n",
       "      <td>60.0</td>\n",
       "      <td>70.0</td>\n",
       "      <td>50.0</td>\n",
       "      <td>100.0</td>\n",
       "      <td>NaN</td>\n",
       "    </tr>\n",
       "    <tr>\n",
       "      <th>유나</th>\n",
       "      <td>70.0</td>\n",
       "      <td>100.0</td>\n",
       "      <td>80.0</td>\n",
       "      <td>50.0</td>\n",
       "      <td>NaN</td>\n",
       "    </tr>\n",
       "    <tr>\n",
       "      <th>대한</th>\n",
       "      <td>60.0</td>\n",
       "      <td>70.0</td>\n",
       "      <td>90.0</td>\n",
       "      <td>100.0</td>\n",
       "      <td>NaN</td>\n",
       "    </tr>\n",
       "  </tbody>\n",
       "</table>\n",
       "</div>"
      ],
      "text/plain": [
       "       수학     영어    음악     체육  과학\n",
       "윤아   90.0   90.0  85.0   80.0 NaN\n",
       "수혁   80.0   89.0  95.0   90.0 NaN\n",
       "지민  100.0   95.0  50.0   90.0 NaN\n",
       "우철   60.0   70.0  50.0  100.0 NaN\n",
       "유나   70.0  100.0  80.0   50.0 NaN\n",
       "대한   60.0   70.0  90.0  100.0 NaN"
      ]
     },
     "execution_count": 148,
     "metadata": {},
     "output_type": "execute_result"
    }
   ],
   "source": [
    "df['과학'] = np.nan  # 열 추가 -> 양식 : df['새로운 열 이름'] = 값\n",
    "df.loc['대한'] = [60,70,90,100,np.nan]  # 행 추가\n",
    "df"
   ]
  },
  {
   "cell_type": "code",
   "execution_count": 168,
   "id": "bc23df1a",
   "metadata": {
    "scrolled": true
   },
   "outputs": [
    {
     "data": {
      "text/html": [
       "<div>\n",
       "<style scoped>\n",
       "    .dataframe tbody tr th:only-of-type {\n",
       "        vertical-align: middle;\n",
       "    }\n",
       "\n",
       "    .dataframe tbody tr th {\n",
       "        vertical-align: top;\n",
       "    }\n",
       "\n",
       "    .dataframe thead th {\n",
       "        text-align: right;\n",
       "    }\n",
       "</style>\n",
       "<table border=\"1\" class=\"dataframe\">\n",
       "  <thead>\n",
       "    <tr style=\"text-align: right;\">\n",
       "      <th></th>\n",
       "      <th>수학</th>\n",
       "      <th>영어</th>\n",
       "      <th>음악</th>\n",
       "      <th>체육</th>\n",
       "    </tr>\n",
       "    <tr>\n",
       "      <th>이름</th>\n",
       "      <th></th>\n",
       "      <th></th>\n",
       "      <th></th>\n",
       "      <th></th>\n",
       "    </tr>\n",
       "  </thead>\n",
       "  <tbody>\n",
       "    <tr>\n",
       "      <th>철수</th>\n",
       "      <td>90</td>\n",
       "      <td>98</td>\n",
       "      <td>85</td>\n",
       "      <td>100</td>\n",
       "    </tr>\n",
       "    <tr>\n",
       "      <th>영희</th>\n",
       "      <td>80</td>\n",
       "      <td>89</td>\n",
       "      <td>95</td>\n",
       "      <td>90</td>\n",
       "    </tr>\n",
       "    <tr>\n",
       "      <th>민철</th>\n",
       "      <td>70</td>\n",
       "      <td>95</td>\n",
       "      <td>100</td>\n",
       "      <td>90</td>\n",
       "    </tr>\n",
       "  </tbody>\n",
       "</table>\n",
       "</div>"
      ],
      "text/plain": [
       "    수학  영어   음악   체육\n",
       "이름                  \n",
       "철수  90  98   85  100\n",
       "영희  80  89   95   90\n",
       "민철  70  95  100   90"
      ]
     },
     "execution_count": 168,
     "metadata": {},
     "output_type": "execute_result"
    }
   ],
   "source": [
    "exam_data = {'이름':['철수','영희','민철']\n",
    "             ,'수학':[90,80,70], '영어':[98,89,95],\n",
    "            '음악':[85,95,100], '체육':[100,90,90]}\n",
    "df = pd.DataFrame(exam_data)\n",
    "\n",
    "df.set_index('이름', inplace=True)  # 인덱스로 지정\n",
    "df"
   ]
  },
  {
   "cell_type": "markdown",
   "id": "52a54d51",
   "metadata": {},
   "source": [
    "### 9) 전치 행렬 (transpose 메소드)"
   ]
  },
  {
   "cell_type": "code",
   "execution_count": 153,
   "id": "0c0b6814",
   "metadata": {
    "scrolled": true
   },
   "outputs": [
    {
     "data": {
      "text/html": [
       "<div>\n",
       "<style scoped>\n",
       "    .dataframe tbody tr th:only-of-type {\n",
       "        vertical-align: middle;\n",
       "    }\n",
       "\n",
       "    .dataframe tbody tr th {\n",
       "        vertical-align: top;\n",
       "    }\n",
       "\n",
       "    .dataframe thead th {\n",
       "        text-align: right;\n",
       "    }\n",
       "</style>\n",
       "<table border=\"1\" class=\"dataframe\">\n",
       "  <thead>\n",
       "    <tr style=\"text-align: right;\">\n",
       "      <th>이름</th>\n",
       "      <th>철수</th>\n",
       "      <th>영희</th>\n",
       "      <th>민철</th>\n",
       "    </tr>\n",
       "  </thead>\n",
       "  <tbody>\n",
       "    <tr>\n",
       "      <th>수학</th>\n",
       "      <td>90</td>\n",
       "      <td>80</td>\n",
       "      <td>70</td>\n",
       "    </tr>\n",
       "    <tr>\n",
       "      <th>영어</th>\n",
       "      <td>98</td>\n",
       "      <td>89</td>\n",
       "      <td>95</td>\n",
       "    </tr>\n",
       "    <tr>\n",
       "      <th>음악</th>\n",
       "      <td>85</td>\n",
       "      <td>95</td>\n",
       "      <td>100</td>\n",
       "    </tr>\n",
       "    <tr>\n",
       "      <th>체육</th>\n",
       "      <td>100</td>\n",
       "      <td>90</td>\n",
       "      <td>90</td>\n",
       "    </tr>\n",
       "  </tbody>\n",
       "</table>\n",
       "</div>"
      ],
      "text/plain": [
       "이름   철수  영희   민철\n",
       "수학   90  80   70\n",
       "영어   98  89   95\n",
       "음악   85  95  100\n",
       "체육  100  90   90"
      ]
     },
     "execution_count": 153,
     "metadata": {},
     "output_type": "execute_result"
    }
   ],
   "source": [
    "df.T  # 방법 1) .T"
   ]
  },
  {
   "cell_type": "code",
   "execution_count": 158,
   "id": "bfa4aa56",
   "metadata": {
    "scrolled": true
   },
   "outputs": [
    {
     "data": {
      "text/html": [
       "<div>\n",
       "<style scoped>\n",
       "    .dataframe tbody tr th:only-of-type {\n",
       "        vertical-align: middle;\n",
       "    }\n",
       "\n",
       "    .dataframe tbody tr th {\n",
       "        vertical-align: top;\n",
       "    }\n",
       "\n",
       "    .dataframe thead th {\n",
       "        text-align: right;\n",
       "    }\n",
       "</style>\n",
       "<table border=\"1\" class=\"dataframe\">\n",
       "  <thead>\n",
       "    <tr style=\"text-align: right;\">\n",
       "      <th></th>\n",
       "      <th>수학</th>\n",
       "      <th>영어</th>\n",
       "      <th>음악</th>\n",
       "      <th>체육</th>\n",
       "    </tr>\n",
       "    <tr>\n",
       "      <th>이름</th>\n",
       "      <th></th>\n",
       "      <th></th>\n",
       "      <th></th>\n",
       "      <th></th>\n",
       "    </tr>\n",
       "  </thead>\n",
       "  <tbody>\n",
       "    <tr>\n",
       "      <th>철수</th>\n",
       "      <td>90</td>\n",
       "      <td>98</td>\n",
       "      <td>85</td>\n",
       "      <td>100</td>\n",
       "    </tr>\n",
       "    <tr>\n",
       "      <th>영희</th>\n",
       "      <td>80</td>\n",
       "      <td>89</td>\n",
       "      <td>95</td>\n",
       "      <td>90</td>\n",
       "    </tr>\n",
       "    <tr>\n",
       "      <th>민철</th>\n",
       "      <td>70</td>\n",
       "      <td>95</td>\n",
       "      <td>100</td>\n",
       "      <td>90</td>\n",
       "    </tr>\n",
       "  </tbody>\n",
       "</table>\n",
       "</div>"
      ],
      "text/plain": [
       "    수학  영어   음악   체육\n",
       "이름                  \n",
       "철수  90  98   85  100\n",
       "영희  80  89   95   90\n",
       "민철  70  95  100   90"
      ]
     },
     "execution_count": 158,
     "metadata": {},
     "output_type": "execute_result"
    }
   ],
   "source": [
    "df.T.transpose()  # 방법 2) .transpose()"
   ]
  }
 ],
 "metadata": {
  "kernelspec": {
   "display_name": "Python 3 (ipykernel)",
   "language": "python",
   "name": "python3"
  },
  "language_info": {
   "codemirror_mode": {
    "name": "ipython",
    "version": 3
   },
   "file_extension": ".py",
   "mimetype": "text/x-python",
   "name": "python",
   "nbconvert_exporter": "python",
   "pygments_lexer": "ipython3",
   "version": "3.9.7"
  }
 },
 "nbformat": 4,
 "nbformat_minor": 5
}
